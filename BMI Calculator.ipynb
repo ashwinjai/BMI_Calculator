{
 "cells": [
  {
   "cell_type": "code",
   "execution_count": 4,
   "id": "4699cd26",
   "metadata": {},
   "outputs": [
    {
     "name": "stdout",
     "output_type": "stream",
     "text": [
      "your bmi is 9, you are underweight.\n"
     ]
    }
   ],
   "source": [
    "#Enter your Weight & Height\n",
    "height = float(input(\"enter your height in m: \"))\n",
    "weight = float(input(\"enter your weight in kg: \"))\n",
    "bmi = int(weight)/ float(height) ** 2\n",
    "bmi_int = int(bmi)\n",
    "final_bmi = round(bmi_int)\n",
    "if final_bmi < 18.5:\n",
    "    print(f\"your bmi is {final_bmi}, you are underweight.\")\n",
    "elif final_bmi < 25:\n",
    "    print(f\"your bmi is {final_bmi}, you are Normal Weight.\")\n",
    "elif final_bmi < 30:\n",
    "    print(f\"your bmi is {final_bmi}, you are Slightly Overweight.\")\n",
    "elif final_bmi < 35:\n",
    "    print(f\"your bmi is {final_bmi}, you are obese.\")\n",
    "else:\n",
    "    print(f\"your bmi is {final_bmi}, you are clinically obese.\")"
   ]
  },
  {
   "cell_type": "code",
   "execution_count": null,
   "id": "d3a5c1f2",
   "metadata": {},
   "outputs": [],
   "source": []
  },
  {
   "cell_type": "code",
   "execution_count": null,
   "id": "26558c38",
   "metadata": {},
   "outputs": [],
   "source": []
  }
 ],
 "metadata": {
  "kernelspec": {
   "display_name": "Python 3.10.6 64-bit (windows store)",
   "language": "python",
   "name": "python3"
  },
  "language_info": {
   "codemirror_mode": {
    "name": "ipython",
    "version": 3
   },
   "file_extension": ".py",
   "mimetype": "text/x-python",
   "name": "python",
   "nbconvert_exporter": "python",
   "pygments_lexer": "ipython3",
   "version": "3.10.6"
  },
  "vscode": {
   "interpreter": {
    "hash": "8a9e9b8e427f73fcfcac6faf99e0512e36da2d261365900a2cca9e35e0297460"
   }
  }
 },
 "nbformat": 4,
 "nbformat_minor": 5
}
